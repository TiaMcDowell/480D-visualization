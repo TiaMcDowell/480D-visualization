{
 "cells": [
  {
   "cell_type": "code",
   "execution_count": null,
   "metadata": {},
   "outputs": [],
   "source": [
    "import plotly.graph_objects as go\n",
    "import pandas as pd\n",
    "\n",
    "data= pd.read_csv(\"ICBC_reported_crashes_Full_Data_data.csv\", dtype={\n",
    "    \"Crash Breakdown 2\": \"string\",\n",
    "    \"Date Of Loss Year\": \"string\",\n",
    "    \"Animal Flag\": \"string\",\n",
    "    \"Crash Severity\": \"string\",\n",
    "    \"Cyclist Flag\": \"string\",\n",
    "    \"Day Of Week\": \"string\",\n",
    "    \"Derived Crash Congifuration\" : \"string\",\t\n",
    "    \"Intersection Crash\": \"string\",\n",
    "    \"Month Of Year\": \"string\",\n",
    "    \"Motorcycle Flag\": \"string\",\n",
    "    \"Municipality Name (ifnull)\": \"string\",\n",
    "    \"Parking Lot Flag\": \"string\",\n",
    "    \"Pedestrian Flag\": \"string\",\n",
    "    \"Region\": \"string\",\n",
    "    \"Street Full Name (ifnull)\": \"string\",\n",
    "    \"Time Category\": \"string\",\n",
    "    \"Municipality Name\": \"string\",\n",
    "    \"Road Location Description\": \"string\",\n",
    "    \"Street Full Name\": \"string\",\n",
    "    \"Total Crashes\": \"string\"\n",
    "\n",
    "})\n",
    "\n",
    "data = data.head()\n",
    "\n",
    "#print(data['Month Of Year'][0])\n",
    "\n",
    "fig = go.Figure(data=go.Scatter(x=data['Street Full Name'],\n",
    "                                y=data['Month Of Year'],\n",
    "                                mode='markers',\n",
    "                                marker_color='red'))\n",
    "fig.update_layout(title='Crashes in Victoria Area')\n",
    "fig.show()\n",
    "\n"
   ]
  },
  {
   "cell_type": "code",
   "execution_count": null,
   "metadata": {},
   "outputs": [],
   "source": [
    "import dash\n",
    "import dash_core_components as dcc\n",
    "import dash_html_components as html\n",
    "from dash.dependencies import Input, Output\n",
    "from plotly.subplots import make_subplots\n",
    "import plotly.express as px\n",
    "import pandas as pd\n",
    "\n",
    "df= pd.read_csv(\"ICBC_reported_crashes_Full_Data_data.csv\")\n",
    "\n",
    "\n",
    "app = dash.Dash(__name__)\n",
    "\n",
    "app.layout = html.Div([\n",
    "    dcc.Graph(id=\"graph\"),\n",
    "    html.Button(\"Flip axis!\", id='btn', n_clicks=0)\n",
    "])\n",
    "\n",
    "@app.callback(\n",
    "    Output(\"graph\", \"figure\"), \n",
    "    [Input(\"btn\", \"n_clicks\")])\n",
    "def display_graph(n_clicks):\n",
    "    if n_clicks % 2 == 0:\n",
    "        x, y = 'Street Full Name', 'Month Of Year'\n",
    "        \n",
    "    else:\n",
    "        x, y = 'Month Of Year', 'Street Full Name'\n",
    "\n",
    "    mask1 = (df[\"Motorcycle Flag\"] == \"N\") & (df[\"Animal Flag\"] == \"N\") & (df[\"Pedestrian Flag\"] == \"N\") & (df[\"Cyclist Flag\"] == \"N\") & (df[\"Parking Lot Flag\"] == \"N\")\n",
    "    mask2 = (df[\"Motorcycle Flag\"] == \"Y\") & (df[\"Animal Flag\"] == \"N\") & (df[\"Pedestrian Flag\"] == \"N\") & (df[\"Cyclist Flag\"] == \"N\") & (df[\"Parking Lot Flag\"] == \"N\")\n",
    "    fig = px.scatter(df[mask1], x=x, y=y)\n",
    "    trace2 = px.scatter(df[mask2], x=x, y=y, color=\"Motorcycle Flag\", color_discrete_sequence=[\"red\", \"green\", \"goldenrod\", \"magenta\"])\n",
    "    fig.add_trace(trace2.data[0])    \n",
    "    return fig\n",
    "\n",
    "app.run_server(debug=True, use_reloader=False) "
   ]
  }
 ],
 "metadata": {
  "interpreter": {
   "hash": "767d51c1340bd893661ea55ea3124f6de3c7a262a8b4abca0554b478b1e2ff90"
  },
  "kernelspec": {
   "display_name": "Python 3.8.10 64-bit",
   "language": "python",
   "name": "python3"
  },
  "language_info": {
   "codemirror_mode": {
    "name": "ipython",
    "version": 3
   },
   "file_extension": ".py",
   "mimetype": "text/x-python",
   "name": "python",
   "nbconvert_exporter": "python",
   "pygments_lexer": "ipython3",
   "version": "3.8.10"
  },
  "orig_nbformat": 4
 },
 "nbformat": 4,
 "nbformat_minor": 2
}
