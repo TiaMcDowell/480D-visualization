{
 "cells": [
  {
   "cell_type": "code",
   "execution_count": 1,
   "metadata": {
    "scrolled": true
   },
   "outputs": [
    {
     "name": "stdout",
     "output_type": "stream",
     "text": [
      "Requirement already satisfied: plotly in c:\\python38\\lib\\site-packages (5.4.0)\n",
      "Requirement already satisfied: six in c:\\python38\\lib\\site-packages (from plotly) (1.15.0)\n",
      "Requirement already satisfied: tenacity>=6.2.0 in c:\\python38\\lib\\site-packages (from plotly) (8.0.1)\n",
      "Requirement already satisfied: pandas in c:\\python38\\lib\\site-packages (1.3.4)\n",
      "Requirement already satisfied: numpy>=1.17.3 in c:\\python38\\lib\\site-packages (from pandas) (1.18.5)\n",
      "Requirement already satisfied: python-dateutil>=2.7.3 in c:\\python38\\lib\\site-packages (from pandas) (2.8.1)\n",
      "Requirement already satisfied: pytz>=2017.3 in c:\\python38\\lib\\site-packages (from pandas) (2021.1)\n",
      "Requirement already satisfied: six>=1.5 in c:\\python38\\lib\\site-packages (from python-dateutil>=2.7.3->pandas) (1.15.0)\n",
      "Requirement already satisfied: dash in c:\\python38\\lib\\site-packages (2.0.0)\n",
      "Requirement already satisfied: dash-table==5.0.0 in c:\\python38\\lib\\site-packages (from dash) (5.0.0)\n",
      "Requirement already satisfied: plotly>=5.0.0 in c:\\python38\\lib\\site-packages (from dash) (5.4.0)\n",
      "Requirement already satisfied: dash-core-components==2.0.0 in c:\\python38\\lib\\site-packages (from dash) (2.0.0)\n",
      "Requirement already satisfied: flask-compress in c:\\python38\\lib\\site-packages (from dash) (1.10.1)\n",
      "Requirement already satisfied: Flask>=1.0.4 in c:\\python38\\lib\\site-packages (from dash) (1.1.2)\n",
      "Requirement already satisfied: dash-html-components==2.0.0 in c:\\python38\\lib\\site-packages (from dash) (2.0.0)\n",
      "Requirement already satisfied: Werkzeug>=0.15 in c:\\python38\\lib\\site-packages (from Flask>=1.0.4->dash) (1.0.1)\n",
      "Requirement already satisfied: Jinja2>=2.10.1 in c:\\python38\\lib\\site-packages (from Flask>=1.0.4->dash) (2.11.2)\n",
      "Requirement already satisfied: itsdangerous>=0.24 in c:\\python38\\lib\\site-packages (from Flask>=1.0.4->dash) (1.1.0)\n",
      "Requirement already satisfied: click>=5.1 in c:\\python38\\lib\\site-packages (from Flask>=1.0.4->dash) (7.1.2)\n",
      "Requirement already satisfied: tenacity>=6.2.0 in c:\\python38\\lib\\site-packages (from plotly>=5.0.0->dash) (8.0.1)\n",
      "Requirement already satisfied: six in c:\\python38\\lib\\site-packages (from plotly>=5.0.0->dash) (1.15.0)\n",
      "Requirement already satisfied: brotli in c:\\python38\\lib\\site-packages (from flask-compress->dash) (1.0.9)\n",
      "Requirement already satisfied: MarkupSafe>=0.23 in c:\\python38\\lib\\site-packages (from Jinja2>=2.10.1->Flask>=1.0.4->dash) (1.1.1)\n"
     ]
    }
   ],
   "source": [
    "!pip install plotly\n",
    "!pip install pandas\n",
    "!pip install dash"
   ]
  },
  {
   "cell_type": "code",
   "execution_count": 24,
   "metadata": {
    "scrolled": true
   },
   "outputs": [],
   "source": [
    "import dash\n",
    "from dash import dcc, html\n",
    "from dash.dependencies import Input, Output\n",
    "import plotly.graph_objects as go\n",
    "import pandas as pd\n",
    "from plotly.subplots import make_subplots\n",
    "import plotly.express as px"
   ]
  },
  {
   "cell_type": "code",
   "execution_count": 25,
   "metadata": {},
   "outputs": [],
   "source": [
    "df= pd.read_csv(\"ICBC_reported_crashes_Full_Data_data.csv\")"
   ]
  },
  {
   "cell_type": "code",
   "execution_count": 26,
   "metadata": {
    "scrolled": true
   },
   "outputs": [],
   "source": [
    "flag_symbols = {\n",
    "    'Animal': 'A',\n",
    "    'Cyclist': 'C',\n",
    "    'Motorcycle': 'M',\n",
    "    'Pedestrian': 'P',\n",
    "    'Vehicle Only': 'V'\n",
    "}\n",
    "\n",
    "flag_columns = list(flag_symbols.keys())[:-1]\n",
    "\n",
    "def combine_flags(row):\n",
    "    values = []\n",
    "    for flag in flag_columns:\n",
    "        if row[flag + ' Flag'] == 'Y':\n",
    "            values.append(flag)\n",
    "    \n",
    "    if len(values) == 0:\n",
    "        return 'Vehicle Only'\n",
    "    else:\n",
    "        return ', '.join(values)\n",
    " \n",
    "\n",
    "def flags_to_symbols(row):\n",
    "    flags = row['flags']\n",
    "    if flags in flag_symbols:\n",
    "        return flag_symbols[flags]\n",
    "    else:\n",
    "        symbols = [flag_symbols[x] for x in flags.split(', ') if x in flag_symbols]\n",
    "        if len(symbols) == 0:\n",
    "            return '_'\n",
    "        else:\n",
    "            return ''.join(sorted(symbols))\n",
    "\n",
    "df['flags'] = df.apply(combine_flags, axis=1)\n",
    "df['flags_symbols'] = df.apply(flags_to_symbols, axis=1)",
    "roadOffsets = {\"JANUARY\": {}, \"FEBRUARY\":{},\"MARCH\":{}, \"APRIL\":{}, \"MAY\":{}, \"JUNE\":{}, \"JULY\":{}, \"AUGUST\":{}, \"SEPTEMBER\":{}, \"OCTOBER\":{}, \"NOVEMBER\":{}, \"DECEMBER\":{}}\n"
   ]
  },
  {
   "cell_type": "code",
   "execution_count": 27,
   "metadata": {},
   "outputs": [],
   "source": [
    "app = dash.Dash(__name__)\n",
    "\n",
    "app.layout = html.Div([\n",
    "    dcc.Graph(id=\"graph\"),\n",
    "    html.Button(\"Go Forward\", id='btn_forward', n_clicks=0),\n",
    "    html.Button(\"Go Backwards\", id='btn_backwards', n_clicks=0)\n",
    "])\n",
    "\n",
    "def getx(row):\n",
    "    return row['table xy'][0]\n",
    "def gety(row):\n",
    "    return row['table xy'][1]\n",
    "\n",
    "def chooseXY(row):\n",
    "    if row[\"Street Full Name\"] in roadOffsets[row['Month Of Year']]:\n",
    "        roadOffsets[row['Month Of Year']][row[\"Street Full Name\"]][\"x\"] += 1\n",
    "        if roadOffsets[row['Month Of Year']][row[\"Street Full Name\"]][\"x\"] % 20 == 0:\n",
    "            roadOffsets[row['Month Of Year']][row[\"Street Full Name\"]][\"x\"] = 0\n",
    "            roadOffsets[row['Month Of Year']][row[\"Street Full Name\"]][\"y\"] += 0.1\n",
    "        return roadOffsets[row['Month Of Year']][row[\"Street Full Name\"]][\"x\"], roadOffsets[row['Month Of Year']][row[\"Street Full Name\"]][\"y\"]\n",
    "    else:\n",
    "        roadOffsets[row['Month Of Year']][row[\"Street Full Name\"]] = {}\n",
    "        roadOffsets[row['Month Of Year']][row[\"Street Full Name\"]][\"x\"] = 0\n",
    "        if row['Month Of Year'] == \"JANUARY\":\n",
    "            roadOffsets[row['Month Of Year']][row[\"Street Full Name\"]][\"y\"] = 0\n",
    "        if row['Month Of Year'] == \"FEBRUARY\":\n",
    "            roadOffsets[row['Month Of Year']][row[\"Street Full Name\"]][\"y\"] = 1\n",
    "        if row['Month Of Year'] == \"MARCH\":\n",
    "            roadOffsets[row['Month Of Year']][row[\"Street Full Name\"]][\"y\"] = 2\n",
    "        if row['Month Of Year'] == \"APRIL\":\n",
    "            roadOffsets[row['Month Of Year']][row[\"Street Full Name\"]][\"y\"] = 3\n",
    "        if row['Month Of Year'] == \"MAY\":\n",
    "            roadOffsets[row['Month Of Year']][row[\"Street Full Name\"]][\"y\"] = 4\n",
    "        if row['Month Of Year'] == \"JUNE\":\n",
    "            roadOffsets[row['Month Of Year']][row[\"Street Full Name\"]][\"y\"] = 5\n",
    "        if row['Month Of Year'] == \"JULY\":\n",
    "            roadOffsets[row['Month Of Year']][row[\"Street Full Name\"]][\"y\"] = 6\n",
    "        if row['Month Of Year'] == \"AUGUST\":\n",
    "            roadOffsets[row['Month Of Year']][row[\"Street Full Name\"]][\"y\"] = 7\n",
    "        if row['Month Of Year'] == \"SEPTEMBER\":\n",
    "            roadOffsets[row['Month Of Year']][row[\"Street Full Name\"]][\"y\"] = 8\n",
    "        if row['Month Of Year'] == \"OCTOBER\":\n",
    "            roadOffsets[row['Month Of Year']][row[\"Street Full Name\"]][\"y\"] = 9\n",
    "        if row['Month Of Year'] == \"NOVEMBER\":\n",
    "            roadOffsets[row['Month Of Year']][row[\"Street Full Name\"]][\"y\"] = 10\n",
    "        if row['Month Of Year'] == \"DECEMBER\":\n",
    "            roadOffsets[row['Month Of Year']][row[\"Street Full Name\"]][\"y\"] = 11\n",
    "        return roadOffsets[row['Month Of Year']][row[\"Street Full Name\"]][\"x\"], roadOffsets[row['Month Of Year']][row[\"Street Full Name\"]][\"y\"]\n",
    "\n",
    "\n",
    "df['table xy'] = df.apply (lambda row: chooseXY(row), axis=1)\n",
    "df['table_x'] = df.apply (lambda row: getx(row), axis=1)\n",
    "df['table_y'] = df.apply (lambda row: gety(row), axis=1)\n",
    "    \n",
    "@app.callback(\n",
    "    Output(\"graph\", \"figure\"), \n",
    "    [Input(\"btn_forward\", \"n_clicks\"),\n",
    "    Input(\"btn_backwards\", \"n_clicks\")]\n",
    "    )\n",
    "def display_graph(n_clicks1, n_clicks2):\n",
    "    size = 1\n",
    "    n_clicks = n_clicks1 - n_clicks2\n",
    "    #only5mask = (df[\"Street Full Name\"] == df[\"Street Full Name\"][0]) | (df[\"Street Full Name\"] == df[\"Street Full Name\"][1]) | (df[\"Street Full Name\"] == df[\"Street Full Name\"][2]) | (df[\"Street Full Name\"] == df[\"Street Full Name\"][3]) | (df[\"Street Full Name\"] == df[\"Street Full Name\"][4])\n",
    "    RoadNames = []\n",
    "    top5RoadNames = [0,0,0,0,0]\n",
    "    for i in range(46519):\n",
    "        if df[\"Street Full Name\"][i] not in RoadNames:\n",
    "            RoadNames.append(df[\"Street Full Name\"][i])\n",
    "\n",
    "    top5RoadNames[0] = RoadNames[n_clicks]\n",
    "    top5RoadNames[1] = RoadNames[n_clicks + 1]\n",
    "    top5RoadNames[2] = RoadNames[n_clicks + 2]\n",
    "    top5RoadNames[3] = RoadNames[n_clicks + 3]\n",
    "    top5RoadNames[4] = RoadNames[n_clicks + 4]\n",
    "\n",
    "    \n",
    "\n",
    "    fig = px.scatter(df[only5mask], x=\"table_x\", y=\"table_y\", opacity=0, text='flags_symbols', facet_col=\"Street Full Name\", height=1000, labels=dict(table_x=\"\", table_y=\"Month\"))\n",
    "    fig.update_xaxes(showticklabels=False)\n",
    "    return fig\n",
    "\n",
    "app.run_server(debug=True, use_reloader=False) "
   ]
  },
  {
   "cell_type": "code",
   "execution_count": null,
   "metadata": {},
   "outputs": [],
   "source": []
  },
  {
   "cell_type": "code",
   "execution_count": null,
   "metadata": {},
   "outputs": [],
   "source": []
  }
 ],
 "metadata": {
  "interpreter": {
   "hash": "767d51c1340bd893661ea55ea3124f6de3c7a262a8b4abca0554b478b1e2ff90"
  },
  "kernelspec": {
   "display_name": "Python 3 (ipykernel)",
   "language": "python",
   "name": "python3"
  },
  "language_info": {
   "codemirror_mode": {
    "name": "ipython",
    "version": 3
   },
   "file_extension": ".py",
   "mimetype": "text/x-python",
   "name": "python",
   "nbconvert_exporter": "python",
   "pygments_lexer": "ipython3",
   "version": "3.8.2"
  }
 },
 "nbformat": 4,
 "nbformat_minor": 2
}
