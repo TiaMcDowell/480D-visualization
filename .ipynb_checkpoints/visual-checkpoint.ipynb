{
 "cells": [
  {
   "cell_type": "code",
   "execution_count": null,
   "metadata": {
    "scrolled": false
   },
   "outputs": [],
   "source": [
    "# !pip install plotly\n",
    "# !pip install pandas\n",
    "# !pip install dash"
   ]
  },
  {
   "cell_type": "code",
   "execution_count": null,
   "metadata": {
    "scrolled": true
   },
   "outputs": [],
   "source": [
    "import dash\n",
    "from dash import dcc, html\n",
    "from dash.dependencies import Input, Output\n",
    "import plotly.graph_objects as go\n",
    "import pandas as pd\n",
    "from plotly.subplots import make_subplots\n",
    "import plotly.express as px\n",
    "import calendar"
   ]
  },
  {
   "cell_type": "code",
   "execution_count": null,
   "metadata": {},
   "outputs": [],
   "source": [
    "df= pd.read_csv(\"ICBC_reported_crashes_Full_Data_data.csv\")"
   ]
  },
  {
   "cell_type": "code",
   "execution_count": null,
   "metadata": {
    "scrolled": true
   },
   "outputs": [],
   "source": [
    "flag_symbols = {\n",
    "    'ANIMAL': 'A',\n",
    "    'CYCLIST': 'C',\n",
    "    'MOTORCYCLE': 'M',\n",
    "    'PEDESTRIAN': 'P',\n",
    "    'VEHICLE ONLY': 'V'\n",
    "}\n",
    "\n",
    "flag_columns = list(flag_symbols.keys())[:-1]\n",
    "flag_default = list(flag_symbols.keys())[-1]\n",
    "\n",
    "def combine_flags(row):\n",
    "    values = []\n",
    "    for flag in flag_columns:\n",
    "        if row[flag.capitalize() + ' Flag'] == 'Y':\n",
    "            values.append(flag)\n",
    "    \n",
    "    if len(values) == 0:\n",
    "        return flag_default\n",
    "    else:\n",
    "        return ', '.join(values)\n",
    " \n",
    "\n",
    "def flags_to_symbols(row):\n",
    "    flags = row['Flags']\n",
    "    if flags in flag_symbols:\n",
    "        return flag_symbols[flags]\n",
    "    else:\n",
    "        symbols = [flag_symbols[x] for x in flags.split(', ')]\n",
    "        if len(symbols) == 0:\n",
    "            return '_'\n",
    "        else:\n",
    "            return ''.join(sorted(symbols))\n",
    "\n",
    "df['Flags'] = df.apply(combine_flags, axis=1)\n",
    "df['Flag Symbols'] = df.apply(flags_to_symbols, axis=1)\n"
   ]
  },
  {
   "cell_type": "code",
   "execution_count": null,
   "metadata": {},
   "outputs": [],
   "source": [
    "months = {month.upper(): index for index, month in enumerate(calendar.month_name) if month}"
   ]
  },
  {
   "cell_type": "code",
   "execution_count": null,
   "metadata": {},
   "outputs": [],
   "source": [
    "app = dash.Dash(__name__)\n",
    "\n",
    "app.layout = html.Div([\n",
    "    dcc.Graph(id=\"graph\"),\n",
    "    html.Button(\"Go Forward\", id='btn_forward', n_clicks=0),\n",
    "    html.Button(\"Go Backwards\", id='btn_backwards', n_clicks=0)\n",
    "])\n",
    "\n",
    "roadOffsets = {\"JANUARY\": {}, \"FEBRUARY\":{},\"MARCH\":{}, \"APRIL\":{}, \"MAY\":{}, \"JUNE\":{}, \"JULY\":{}, \"AUGUST\":{}, \"SEPTEMBER\":{}, \"OCTOBER\":{}, \"NOVEMBER\":{}, \"DECEMBER\":{}}\n",
    "\n",
    "def getx(row):\n",
    "    return row['table xy'][0]\n",
    "def gety(row):\n",
    "    return row['table xy'][1]\n",
    "\n",
    "def chooseXY(row):\n",
    "    if row[\"Street Full Name\"] in roadOffsets[row['Month Of Year']]:\n",
    "        roadOffsets[row['Month Of Year']][row[\"Street Full Name\"]][\"x\"] += 1\n",
    "        if roadOffsets[row['Month Of Year']][row[\"Street Full Name\"]][\"x\"] % 20 == 0:\n",
    "            roadOffsets[row['Month Of Year']][row[\"Street Full Name\"]][\"x\"] = 0\n",
    "            roadOffsets[row['Month Of Year']][row[\"Street Full Name\"]][\"y\"] += 0.1\n",
    "        return roadOffsets[row['Month Of Year']][row[\"Street Full Name\"]][\"x\"], roadOffsets[row['Month Of Year']][row[\"Street Full Name\"]][\"y\"]\n",
    "    else:\n",
    "        roadOffsets[row['Month Of Year']][row[\"Street Full Name\"]] = {}\n",
    "        roadOffsets[row['Month Of Year']][row[\"Street Full Name\"]][\"x\"] = 0\n",
    "        \n",
    "        roadOffsets[row['Month Of Year']][row[\"Street Full Name\"]][\"y\"] = months[row['Month Of Year']]\n",
    "        \n",
    "        return roadOffsets[row['Month Of Year']][row[\"Street Full Name\"]][\"x\"], roadOffsets[row['Month Of Year']][row[\"Street Full Name\"]][\"y\"]\n",
    "\n",
    "\n",
    "df['table xy'] = df.apply (lambda row: chooseXY(row), axis=1)\n",
    "df['table_x'] = df.apply (lambda row: getx(row), axis=1)\n",
    "df['table_y'] = df.apply (lambda row: gety(row), axis=1)\n",
    "    \n",
    "@app.callback(\n",
    "    Output(\"graph\", \"figure\"), \n",
    "    [Input(\"btn_forward\", \"n_clicks\"),\n",
    "    Input(\"btn_backwards\", \"n_clicks\")]\n",
    "    )\n",
    "def display_graph(n_clicks1, n_clicks2):\n",
    "    size = 1\n",
    "    n_clicks = n_clicks1 - n_clicks2\n",
    "\n",
    "    RoadNames = []\n",
    "    top5RoadNames = [0,0,0,0,0]\n",
    "    for i in range(46519):\n",
    "        if df[\"Street Full Name\"][i] not in RoadNames:\n",
    "            RoadNames.append(df[\"Street Full Name\"][i])\n",
    "\n",
    "    top5RoadNames[0] = RoadNames[n_clicks]\n",
    "    top5RoadNames[1] = RoadNames[n_clicks + 1]\n",
    "    top5RoadNames[2] = RoadNames[n_clicks + 2]\n",
    "    top5RoadNames[3] = RoadNames[n_clicks + 3]\n",
    "    top5RoadNames[4] = RoadNames[n_clicks + 4]\n",
    "    \n",
    "    only5mask = (\n",
    "            (df[\"Street Full Name\"] == top5RoadNames[0])\n",
    "            | (df[\"Street Full Name\"] == top5RoadNames[1])\n",
    "            | (df[\"Street Full Name\"] == top5RoadNames[2])\n",
    "            | (df[\"Street Full Name\"] == top5RoadNames[3])\n",
    "            | (df[\"Street Full Name\"] == top5RoadNames[4])\n",
    "                )\n",
    "    print(df[only5mask])\n",
    "    fig = px.scatter(df[only5mask],\n",
    "                     title='Victoria Streets by Car Crashes',\n",
    "                     x=\"table_x\",\n",
    "                     y=\"table_y\",\n",
    "                     opacity=0,\n",
    "                     text='Flag Symbols',\n",
    "                     facet_col=\"Street Full Name\",\n",
    "                     height=1000,\n",
    "                     labels=dict(table_x=\"\", table_y=\"Month\"),\n",
    "                     range_y=[0.8, 13],\n",
    "                     hover_data={\n",
    "                         'Crash Breakdown 2': False,\n",
    "                         'Date Of Loss Year': False,\n",
    "                         'Animal Flag': False,\n",
    "                         'Crash Severity': True,\n",
    "                         'Cyclist Flag': False,\n",
    "                         'Day Of Week': True,\n",
    "                         'Derived Crash Congifuration': False,\n",
    "                         'Intersection Crash': False,\n",
    "                         'Month Of Year': False,\n",
    "                         'Motorcycle Flag': False,\n",
    "                         'Municipality Name (ifnull)': False,\n",
    "                         'Parking Lot Flag': False,\n",
    "                         'Pedestrian Flag': False,\n",
    "                         'Region': False,\n",
    "                         'Street Full Name (ifnull)': False,\n",
    "                         'Time Category': False,\n",
    "                         'Municipality Name': False,\n",
    "                         'Road Location Description': True,\n",
    "                         'Street Full Name': False,\n",
    "                         'Total Crashes': False,\n",
    "                         'Flags': True,\n",
    "                         'Flag Symbols': False,\n",
    "                         'table xy': False,\n",
    "                         'table_x': False,\n",
    "                         'table_y': False\n",
    "                     }\n",
    "                    )\n",
    "    fig.update_xaxes(showticklabels=False)\n",
    "    return fig\n",
    "app.run_server(debug=True, use_reloader=False)"
   ]
  },
  {
   "cell_type": "code",
   "execution_count": null,
   "metadata": {},
   "outputs": [],
   "source": []
  },
  {
   "cell_type": "code",
   "execution_count": null,
   "metadata": {},
   "outputs": [],
   "source": []
  },
  {
   "cell_type": "code",
   "execution_count": null,
   "metadata": {},
   "outputs": [],
   "source": []
  }
 ],
 "metadata": {
  "interpreter": {
   "hash": "767d51c1340bd893661ea55ea3124f6de3c7a262a8b4abca0554b478b1e2ff90"
  },
  "kernelspec": {
   "display_name": "Python 3 (ipykernel)",
   "language": "python",
   "name": "python3"
  },
  "language_info": {
   "codemirror_mode": {
    "name": "ipython",
    "version": 3
   },
   "file_extension": ".py",
   "mimetype": "text/x-python",
   "name": "python",
   "nbconvert_exporter": "python",
   "pygments_lexer": "ipython3",
   "version": "3.8.2"
  }
 },
 "nbformat": 4,
 "nbformat_minor": 2
}
